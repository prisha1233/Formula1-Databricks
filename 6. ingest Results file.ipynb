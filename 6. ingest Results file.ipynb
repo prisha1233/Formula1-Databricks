{
 "cells": [
  {
   "cell_type": "markdown",
   "metadata": {
    "application/vnd.databricks.v1+cell": {
     "cellMetadata": {},
     "inputWidgets": {},
     "nuid": "634ce5bf-05f2-4b1d-bf2a-14bd22d1aa40",
     "showTitle": false,
     "tableResultSettingsMap": {},
     "title": ""
    }
   },
   "source": [
    "## 6. Ingest Results.json file"
   ]
  },
  {
   "cell_type": "code",
   "execution_count": 0,
   "metadata": {
    "application/vnd.databricks.v1+cell": {
     "cellMetadata": {
      "byteLimit": 2048000,
      "rowLimit": 10000
     },
     "inputWidgets": {},
     "nuid": "aba6692e-b0e0-47bc-b457-3e356968e11b",
     "showTitle": false,
     "tableResultSettingsMap": {},
     "title": ""
    }
   },
   "outputs": [],
   "source": [
    "%fs \n",
    "ls /mnt/prisha12/raw/"
   ]
  },
  {
   "cell_type": "markdown",
   "metadata": {
    "application/vnd.databricks.v1+cell": {
     "cellMetadata": {},
     "inputWidgets": {},
     "nuid": "611e0916-fe03-446e-a21e-b4adeab6ed06",
     "showTitle": false,
     "tableResultSettingsMap": {},
     "title": ""
    }
   },
   "source": [
    "### 1. reading csv file"
   ]
  },
  {
   "cell_type": "code",
   "execution_count": 0,
   "metadata": {
    "application/vnd.databricks.v1+cell": {
     "cellMetadata": {
      "byteLimit": 2048000,
      "rowLimit": 10000
     },
     "inputWidgets": {},
     "nuid": "1b490b5d-41da-4b5f-a321-4c5c8daa959f",
     "showTitle": false,
     "tableResultSettingsMap": {},
     "title": ""
    }
   },
   "outputs": [],
   "source": [
    "### import type\n",
    "from pyspark.sql.types import StructType, StructField, StringType, IntegerType, TimestampType, FloatType\n",
    "results_schema = StructType([StructField(\"resultId\",IntegerType(),False),\n",
    "                             StructField(\"raceId\",IntegerType(), True), \n",
    "                             StructField(\"driverId\",IntegerType(), True),\n",
    "                             StructField(\"constructorId\", IntegerType(), True),\n",
    "                             StructField(\"number\",IntegerType(), True),\n",
    "                             StructField(\"grid\",IntegerType(), True),\n",
    "                             StructField(\"position\",IntegerType(), True),\n",
    "                             StructField(\"positionText\",StringType(), True),\n",
    "                             StructField(\"positionOrder\",IntegerType(), True),\n",
    "                             StructField(\"points\",FloatType(), True), \n",
    "                             StructField(\"laps\",IntegerType(), True),\n",
    "                             StructField(\"time\",StringType(), True),\n",
    "                             StructField(\"milliseconds\",IntegerType(), True),\n",
    "                             StructField(\"fastestLap\",IntegerType(), True),\n",
    "                             StructField(\"rank\",IntegerType(), True), \n",
    "                             StructField(\"fastestLapTime\",StringType(), True),\n",
    "                             StructField(\"fastestLapSpeed\",FloatType(), True),\n",
    "                             StructField(\"statusId\",IntegerType(), True)])"
   ]
  },
  {
   "cell_type": "code",
   "execution_count": 0,
   "metadata": {
    "application/vnd.databricks.v1+cell": {
     "cellMetadata": {
      "byteLimit": 2048000,
      "rowLimit": 10000
     },
     "inputWidgets": {},
     "nuid": "5b8024ec-e1bd-4a12-bfb8-122eae2b1eec",
     "showTitle": false,
     "tableResultSettingsMap": {},
     "title": ""
    }
   },
   "outputs": [],
   "source": [
    "df = spark.read.schema(results_schema).json(\"dbfs:/mnt/prisha12/raw/results.json\")\n",
    "display(df.limit(10))"
   ]
  },
  {
   "cell_type": "code",
   "execution_count": 0,
   "metadata": {
    "application/vnd.databricks.v1+cell": {
     "cellMetadata": {
      "byteLimit": 2048000,
      "rowLimit": 10000
     },
     "inputWidgets": {},
     "nuid": "4e8b8ec5-debc-421d-9866-e7a6df128cf2",
     "showTitle": false,
     "tableResultSettingsMap": {},
     "title": ""
    }
   },
   "outputs": [],
   "source": [
    "display(df.describe())"
   ]
  },
  {
   "cell_type": "code",
   "execution_count": 0,
   "metadata": {
    "application/vnd.databricks.v1+cell": {
     "cellMetadata": {
      "byteLimit": 2048000,
      "rowLimit": 10000
     },
     "inputWidgets": {},
     "nuid": "31b4f552-c408-4be6-8ac7-a1dd96d1a2b9",
     "showTitle": false,
     "tableResultSettingsMap": {},
     "title": ""
    }
   },
   "outputs": [],
   "source": [
    "display(df.printSchema())"
   ]
  },
  {
   "cell_type": "code",
   "execution_count": 0,
   "metadata": {
    "application/vnd.databricks.v1+cell": {
     "cellMetadata": {
      "byteLimit": 2048000,
      "rowLimit": 10000
     },
     "inputWidgets": {},
     "nuid": "c99d877d-a763-4874-a48b-7c1f6f5919b5",
     "showTitle": false,
     "tableResultSettingsMap": {},
     "title": ""
    }
   },
   "outputs": [],
   "source": [
    "df_selected = df.select(\"resultId\",\"raceId\",\"driverId\",\"constructorId\",\"number\",\"grid\",\"position\",\"positionText\",\"positionOrder\",\"points\",\"laps\",\"time\",\"milliseconds\",\"fastestLap\",\"rank\",\"fastestLapTime\",\"fastestLapSpeed\")\n",
    "display(df_selected.limit(10))"
   ]
  },
  {
   "cell_type": "markdown",
   "metadata": {
    "application/vnd.databricks.v1+cell": {
     "cellMetadata": {
      "byteLimit": 2048000,
      "rowLimit": 10000
     },
     "inputWidgets": {},
     "nuid": "f2383692-2c55-4bc7-af77-4c0dd13382c5",
     "showTitle": false,
     "tableResultSettingsMap": {},
     "title": ""
    }
   },
   "source": [
    "#### 2. adding current timestamp as ingestion_time and renaming fields"
   ]
  },
  {
   "cell_type": "code",
   "execution_count": 0,
   "metadata": {
    "application/vnd.databricks.v1+cell": {
     "cellMetadata": {
      "byteLimit": 2048000,
      "rowLimit": 10000
     },
     "inputWidgets": {},
     "nuid": "1ecc8cb6-1aa8-4a3f-b853-adf9c8a5fe1d",
     "showTitle": false,
     "tableResultSettingsMap": {},
     "title": ""
    }
   },
   "outputs": [],
   "source": [
    "from pyspark.sql.functions import current_timestamp\n",
    "df_renamed = df_selected.withColumnRenamed(\"resultId\",\"result_id\").withColumnRenamed(\"raceId\",\"race_id\").withColumnRenamed(\"driverId\",\"driver_id\").withColumnRenamed(\"constructorId\",\"constructor_id\").withColumnRenamed(\"positionText\",\"position_text\").withColumnRenamed(\"positionOrder\",\"position_order\").withColumnRenamed(\"fastestLap\",\"fastest_lap\").withColumnRenamed(\"fastestLapTime\",\"fastest_lap_time\").withColumnRenamed(\"fastestLapSpeed\",\"fastest_lap_speed\").withColumn(\"ingestion_date\",current_timestamp())\n",
    "display(df_renamed.limit(10))"
   ]
  },
  {
   "cell_type": "code",
   "execution_count": 0,
   "metadata": {
    "application/vnd.databricks.v1+cell": {
     "cellMetadata": {
      "byteLimit": 2048000,
      "rowLimit": 10000
     },
     "inputWidgets": {},
     "nuid": "732d8fe8-3256-4fb1-ab55-eb35bf3a9bed",
     "showTitle": false,
     "tableResultSettingsMap": {},
     "title": ""
    }
   },
   "outputs": [],
   "source": [
    "#drop race_date and race_time\n",
    "df_renamed = df_renamed.drop(\"race_date\",\"race_time\")"
   ]
  },
  {
   "cell_type": "code",
   "execution_count": 0,
   "metadata": {
    "application/vnd.databricks.v1+cell": {
     "cellMetadata": {
      "byteLimit": 2048000,
      "rowLimit": 10000
     },
     "inputWidgets": {},
     "nuid": "2cd6de19-4747-4db7-ae06-1d9a51c80120",
     "showTitle": false,
     "tableResultSettingsMap": {},
     "title": ""
    }
   },
   "outputs": [],
   "source": [
    "##adding ingesting timestamp as ingesting date\n",
    "from pyspark.sql.functions import current_timestamp\n",
    "df_final = df_renamed.withColumn(\"ingesting_timestamp\",current_timestamp())"
   ]
  },
  {
   "cell_type": "code",
   "execution_count": 0,
   "metadata": {
    "application/vnd.databricks.v1+cell": {
     "cellMetadata": {},
     "inputWidgets": {},
     "nuid": "80a3ca9d-d48e-4a10-a125-c7a42a191d94",
     "showTitle": false,
     "tableResultSettingsMap": {},
     "title": ""
    }
   },
   "outputs": [],
   "source": [
    "### 3. Write data in Parquet format and partitionBy race_id"
   ]
  },
  {
   "cell_type": "code",
   "execution_count": 0,
   "metadata": {
    "application/vnd.databricks.v1+cell": {
     "cellMetadata": {
      "byteLimit": 2048000,
      "rowLimit": 10000
     },
     "inputWidgets": {},
     "nuid": "84f5b00a-ca6f-4e3c-a38c-20ef4c2f9476",
     "showTitle": false,
     "tableResultSettingsMap": {},
     "title": ""
    }
   },
   "outputs": [],
   "source": [
    "##write this data into data lake processed\n",
    "df_renamed.write.mode(\"overwrite\").format(\"parquet\").partitionBy(\"race_id\").save(\"/mnt/prisha12/processed/results\")"
   ]
  }
 ],
 "metadata": {
  "application/vnd.databricks.v1+notebook": {
   "computePreferences": null,
   "dashboards": [],
   "environmentMetadata": {
    "base_environment": "",
    "environment_version": "2"
   },
   "language": "python",
   "notebookMetadata": {
    "mostRecentlyExecutedCommandWithImplicitDF": {
     "commandId": 2943855076159566,
     "dataframes": [
      "_sqldf"
     ]
    },
    "pythonIndentUnit": 4
   },
   "notebookName": "6. ingest Results file",
   "widgets": {}
  },
  "language_info": {
   "name": "python"
  }
 },
 "nbformat": 4,
 "nbformat_minor": 0
}
